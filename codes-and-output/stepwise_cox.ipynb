{
 "cells": [
  {
   "cell_type": "code",
   "execution_count": 65,
   "metadata": {
    "vscode": {
     "languageId": "r"
    }
   },
   "outputs": [],
   "source": [
    "# Load necessary libraries\n",
    "library(survival)\n",
    "library(MASS)"
   ]
  },
  {
   "cell_type": "code",
   "execution_count": 66,
   "metadata": {
    "vscode": {
     "languageId": "r"
    }
   },
   "outputs": [],
   "source": [
    "# install.packages('survival')\n",
    "# installed.packages('survreg')\n",
    "# install.packages('StepReg')\n"
   ]
  },
  {
   "cell_type": "code",
   "execution_count": 67,
   "metadata": {
    "vscode": {
     "languageId": "r"
    }
   },
   "outputs": [],
   "source": [
    "# library('StepReg')"
   ]
  },
  {
   "cell_type": "code",
   "execution_count": 68,
   "metadata": {
    "vscode": {
     "languageId": "r"
    }
   },
   "outputs": [],
   "source": [
    "# install.packages('cran/StepReg')\n",
    "\n",
    "# devtools::install_github(\"JunhuiLi1017/StepReg\")"
   ]
  },
  {
   "cell_type": "code",
   "execution_count": 69,
   "metadata": {
    "vscode": {
     "languageId": "r"
    }
   },
   "outputs": [],
   "source": [
    "\n",
    "# Load dataset\n",
    "survival_data_adjusted <- read.csv(\"survival_data_adjusted.csv\")\n",
    "\n",
    "# Display first few rows to verify\\head(survival_data_adjusted)\n",
    "\n",
    "# Create survival object with entry time (left truncation)\n",
    "surv_obj <- with(survival_data_adjusted, Surv(time = entry_time, \n",
    "                                              time2 = survival_time, \n",
    "                                              event = status))"
   ]
  },
  {
   "cell_type": "code",
   "execution_count": 70,
   "metadata": {
    "vscode": {
     "languageId": "r"
    }
   },
   "outputs": [
    {
     "data": {
      "text/html": [
       "<table class=\"dataframe\">\n",
       "<caption>A data.frame: 6 × 26</caption>\n",
       "<thead>\n",
       "\t<tr><th></th><th scope=col>company_name</th><th scope=col>survival_time</th><th scope=col>start_time</th><th scope=col>end_time</th><th scope=col>end_minus_start_time</th><th scope=col>live_count</th><th scope=col>status</th><th scope=col>X1</th><th scope=col>X2</th><th scope=col>X3</th><th scope=col>⋯</th><th scope=col>X10</th><th scope=col>X11</th><th scope=col>X12</th><th scope=col>X13</th><th scope=col>X14</th><th scope=col>X15</th><th scope=col>X16</th><th scope=col>X17</th><th scope=col>X18</th><th scope=col>entry_time</th></tr>\n",
       "\t<tr><th></th><th scope=col>&lt;chr&gt;</th><th scope=col>&lt;int&gt;</th><th scope=col>&lt;int&gt;</th><th scope=col>&lt;int&gt;</th><th scope=col>&lt;int&gt;</th><th scope=col>&lt;int&gt;</th><th scope=col>&lt;int&gt;</th><th scope=col>&lt;dbl&gt;</th><th scope=col>&lt;dbl&gt;</th><th scope=col>&lt;dbl&gt;</th><th scope=col>⋯</th><th scope=col>&lt;dbl&gt;</th><th scope=col>&lt;dbl&gt;</th><th scope=col>&lt;dbl&gt;</th><th scope=col>&lt;dbl&gt;</th><th scope=col>&lt;dbl&gt;</th><th scope=col>&lt;dbl&gt;</th><th scope=col>&lt;dbl&gt;</th><th scope=col>&lt;dbl&gt;</th><th scope=col>&lt;dbl&gt;</th><th scope=col>&lt;int&gt;</th></tr>\n",
       "</thead>\n",
       "<tbody>\n",
       "\t<tr><th scope=row>1</th><td>C_1   </td><td>19</td><td>1999</td><td>2017</td><td>19</td><td>19</td><td>0</td><td> 511.267</td><td>  833.107</td><td> 18.373</td><td>⋯</td><td>  740.998</td><td> 180.447</td><td> 70.658</td><td> 191.226</td><td> 163.816</td><td> 201.026</td><td> 1024.333</td><td> 401.483</td><td>  935.302</td><td>0</td></tr>\n",
       "\t<tr><th scope=row>2</th><td>C_10  </td><td>20</td><td>1999</td><td>2018</td><td>20</td><td>20</td><td>0</td><td> 498.794</td><td> 1459.008</td><td>385.568</td><td>⋯</td><td> 6608.506</td><td>2206.052</td><td>578.777</td><td> 964.345</td><td> 495.490</td><td> 668.284</td><td> 2423.353</td><td>4402.773</td><td> 1459.008</td><td>0</td></tr>\n",
       "\t<tr><th scope=row>3</th><td>C_100 </td><td>15</td><td>1999</td><td>2013</td><td>15</td><td>15</td><td>0</td><td>  23.527</td><td>   17.916</td><td>  5.252</td><td>⋯</td><td>   71.001</td><td>   0.000</td><td> 14.640</td><td>  22.336</td><td>  11.512</td><td>  45.705</td><td>   40.252</td><td>  15.896</td><td>   20.360</td><td>0</td></tr>\n",
       "\t<tr><th scope=row>4</th><td>C_1000</td><td>20</td><td>1999</td><td>2018</td><td>20</td><td>20</td><td>0</td><td>1553.725</td><td> 1908.784</td><td>137.696</td><td>⋯</td><td> 4088.797</td><td> 354.775</td><td>676.038</td><td>2083.213</td><td>1525.453</td><td>1839.085</td><td> 3991.997</td><td>2397.304</td><td> 3178.263</td><td>0</td></tr>\n",
       "\t<tr><th scope=row>5</th><td>C_1001</td><td>20</td><td>1999</td><td>2018</td><td>20</td><td>20</td><td>0</td><td>7965.500</td><td>34240.100</td><td>171.700</td><td>⋯</td><td>10372.900</td><td>1439.600</td><td>136.500</td><td>2472.400</td><td>5121.800</td><td>1799.200</td><td>36712.500</td><td>6807.100</td><td>36404.300</td><td>0</td></tr>\n",
       "\t<tr><th scope=row>6</th><td>C_1002</td><td>20</td><td>1999</td><td>2018</td><td>20</td><td>20</td><td>0</td><td>  27.013</td><td>   36.197</td><td>  1.526</td><td>⋯</td><td>   39.951</td><td>   5.280</td><td>  1.335</td><td>  15.257</td><td>   6.051</td><td>  24.341</td><td>   51.454</td><td>  11.331</td><td>   48.593</td><td>0</td></tr>\n",
       "</tbody>\n",
       "</table>\n"
      ],
      "text/latex": [
       "A data.frame: 6 × 26\n",
       "\\begin{tabular}{r|lllllllllllllllllllll}\n",
       "  & company\\_name & survival\\_time & start\\_time & end\\_time & end\\_minus\\_start\\_time & live\\_count & status & X1 & X2 & X3 & ⋯ & X10 & X11 & X12 & X13 & X14 & X15 & X16 & X17 & X18 & entry\\_time\\\\\n",
       "  & <chr> & <int> & <int> & <int> & <int> & <int> & <int> & <dbl> & <dbl> & <dbl> & ⋯ & <dbl> & <dbl> & <dbl> & <dbl> & <dbl> & <dbl> & <dbl> & <dbl> & <dbl> & <int>\\\\\n",
       "\\hline\n",
       "\t1 & C\\_1    & 19 & 1999 & 2017 & 19 & 19 & 0 &  511.267 &   833.107 &  18.373 & ⋯ &   740.998 &  180.447 &  70.658 &  191.226 &  163.816 &  201.026 &  1024.333 &  401.483 &   935.302 & 0\\\\\n",
       "\t2 & C\\_10   & 20 & 1999 & 2018 & 20 & 20 & 0 &  498.794 &  1459.008 & 385.568 & ⋯ &  6608.506 & 2206.052 & 578.777 &  964.345 &  495.490 &  668.284 &  2423.353 & 4402.773 &  1459.008 & 0\\\\\n",
       "\t3 & C\\_100  & 15 & 1999 & 2013 & 15 & 15 & 0 &   23.527 &    17.916 &   5.252 & ⋯ &    71.001 &    0.000 &  14.640 &   22.336 &   11.512 &   45.705 &    40.252 &   15.896 &    20.360 & 0\\\\\n",
       "\t4 & C\\_1000 & 20 & 1999 & 2018 & 20 & 20 & 0 & 1553.725 &  1908.784 & 137.696 & ⋯ &  4088.797 &  354.775 & 676.038 & 2083.213 & 1525.453 & 1839.085 &  3991.997 & 2397.304 &  3178.263 & 0\\\\\n",
       "\t5 & C\\_1001 & 20 & 1999 & 2018 & 20 & 20 & 0 & 7965.500 & 34240.100 & 171.700 & ⋯ & 10372.900 & 1439.600 & 136.500 & 2472.400 & 5121.800 & 1799.200 & 36712.500 & 6807.100 & 36404.300 & 0\\\\\n",
       "\t6 & C\\_1002 & 20 & 1999 & 2018 & 20 & 20 & 0 &   27.013 &    36.197 &   1.526 & ⋯ &    39.951 &    5.280 &   1.335 &   15.257 &    6.051 &   24.341 &    51.454 &   11.331 &    48.593 & 0\\\\\n",
       "\\end{tabular}\n"
      ],
      "text/markdown": [
       "\n",
       "A data.frame: 6 × 26\n",
       "\n",
       "| <!--/--> | company_name &lt;chr&gt; | survival_time &lt;int&gt; | start_time &lt;int&gt; | end_time &lt;int&gt; | end_minus_start_time &lt;int&gt; | live_count &lt;int&gt; | status &lt;int&gt; | X1 &lt;dbl&gt; | X2 &lt;dbl&gt; | X3 &lt;dbl&gt; | ⋯ ⋯ | X10 &lt;dbl&gt; | X11 &lt;dbl&gt; | X12 &lt;dbl&gt; | X13 &lt;dbl&gt; | X14 &lt;dbl&gt; | X15 &lt;dbl&gt; | X16 &lt;dbl&gt; | X17 &lt;dbl&gt; | X18 &lt;dbl&gt; | entry_time &lt;int&gt; |\n",
       "|---|---|---|---|---|---|---|---|---|---|---|---|---|---|---|---|---|---|---|---|---|---|\n",
       "| 1 | C_1    | 19 | 1999 | 2017 | 19 | 19 | 0 |  511.267 |   833.107 |  18.373 | ⋯ |   740.998 |  180.447 |  70.658 |  191.226 |  163.816 |  201.026 |  1024.333 |  401.483 |   935.302 | 0 |\n",
       "| 2 | C_10   | 20 | 1999 | 2018 | 20 | 20 | 0 |  498.794 |  1459.008 | 385.568 | ⋯ |  6608.506 | 2206.052 | 578.777 |  964.345 |  495.490 |  668.284 |  2423.353 | 4402.773 |  1459.008 | 0 |\n",
       "| 3 | C_100  | 15 | 1999 | 2013 | 15 | 15 | 0 |   23.527 |    17.916 |   5.252 | ⋯ |    71.001 |    0.000 |  14.640 |   22.336 |   11.512 |   45.705 |    40.252 |   15.896 |    20.360 | 0 |\n",
       "| 4 | C_1000 | 20 | 1999 | 2018 | 20 | 20 | 0 | 1553.725 |  1908.784 | 137.696 | ⋯ |  4088.797 |  354.775 | 676.038 | 2083.213 | 1525.453 | 1839.085 |  3991.997 | 2397.304 |  3178.263 | 0 |\n",
       "| 5 | C_1001 | 20 | 1999 | 2018 | 20 | 20 | 0 | 7965.500 | 34240.100 | 171.700 | ⋯ | 10372.900 | 1439.600 | 136.500 | 2472.400 | 5121.800 | 1799.200 | 36712.500 | 6807.100 | 36404.300 | 0 |\n",
       "| 6 | C_1002 | 20 | 1999 | 2018 | 20 | 20 | 0 |   27.013 |    36.197 |   1.526 | ⋯ |    39.951 |    5.280 |   1.335 |   15.257 |    6.051 |   24.341 |    51.454 |   11.331 |    48.593 | 0 |\n",
       "\n"
      ],
      "text/plain": [
       "  company_name survival_time start_time end_time end_minus_start_time\n",
       "1 C_1          19            1999       2017     19                  \n",
       "2 C_10         20            1999       2018     20                  \n",
       "3 C_100        15            1999       2013     15                  \n",
       "4 C_1000       20            1999       2018     20                  \n",
       "5 C_1001       20            1999       2018     20                  \n",
       "6 C_1002       20            1999       2018     20                  \n",
       "  live_count status X1       X2        X3      ⋯ X10       X11      X12    \n",
       "1 19         0       511.267   833.107  18.373 ⋯   740.998  180.447  70.658\n",
       "2 20         0       498.794  1459.008 385.568 ⋯  6608.506 2206.052 578.777\n",
       "3 15         0        23.527    17.916   5.252 ⋯    71.001    0.000  14.640\n",
       "4 20         0      1553.725  1908.784 137.696 ⋯  4088.797  354.775 676.038\n",
       "5 20         0      7965.500 34240.100 171.700 ⋯ 10372.900 1439.600 136.500\n",
       "6 20         0        27.013    36.197   1.526 ⋯    39.951    5.280   1.335\n",
       "  X13      X14      X15      X16       X17      X18       entry_time\n",
       "1  191.226  163.816  201.026  1024.333  401.483   935.302 0         \n",
       "2  964.345  495.490  668.284  2423.353 4402.773  1459.008 0         \n",
       "3   22.336   11.512   45.705    40.252   15.896    20.360 0         \n",
       "4 2083.213 1525.453 1839.085  3991.997 2397.304  3178.263 0         \n",
       "5 2472.400 5121.800 1799.200 36712.500 6807.100 36404.300 0         \n",
       "6   15.257    6.051   24.341    51.454   11.331    48.593 0         "
      ]
     },
     "metadata": {},
     "output_type": "display_data"
    }
   ],
   "source": [
    "head(survival_data_adjusted)"
   ]
  },
  {
   "cell_type": "code",
   "execution_count": 71,
   "metadata": {
    "vscode": {
     "languageId": "r"
    }
   },
   "outputs": [],
   "source": [
    "# Fit initial Cox model (full model with all predictors)\n",
    "# Add the columns 'adjusted_entry_time', 'survival_time', and 'status' to the dataset\n",
    "survival_data_adjusted <- survival_data_adjusted[, c(#\"adjusted_entry_time\", \"survival_time\", \"status\", \n",
    "                                                     names(survival_data_adjusted)[grepl(\"^X\", names(survival_data_adjusted))])]\n",
    "\n",
    "# Fit the Cox model\n",
    "cox_min <- coxph(surv_obj ~ X3+X4, data = survival_data_adjusted)"
   ]
  },
  {
   "cell_type": "code",
   "execution_count": 86,
   "metadata": {
    "vscode": {
     "languageId": "r"
    }
   },
   "outputs": [],
   "source": [
    "library(ggplot2)\n",
    "library(broom)\n",
    "\n",
    "coef_df <- tidy(cox_min, conf.int = TRUE)\n",
    "\n",
    "# Plot\n",
    "gg_min = ggplot(coef_df, aes(x = term, y = estimate, ymin = conf.low, ymax = conf.high)) +\n",
    "  geom_pointrange() +\n",
    "  geom_hline(yintercept = 0, linetype = \"dashed\") +\n",
    "  coord_flip() +\n",
    "  labs(title = \"Coefficient Estimates with 95% Confidence Intervals\",\n",
    "       x = \"Covariates\", y = \"Log Hazard Ratio (coef)\") +\n",
    "  theme_minimal()\n",
    "ggsave(\"fig/cox_model_with_only_x3_x4_coefficients.png\", width = 8, height = 6)"
   ]
  },
  {
   "cell_type": "code",
   "execution_count": 73,
   "metadata": {
    "vscode": {
     "languageId": "r"
    }
   },
   "outputs": [],
   "source": [
    "# Fit the Cox model with a cross term (interaction term) between X3 and X4\n",
    "cox_min <- coxph(surv_obj ~ X3 * X4, data = survival_data_adjusted)"
   ]
  },
  {
   "cell_type": "code",
   "execution_count": 74,
   "metadata": {
    "vscode": {
     "languageId": "r"
    }
   },
   "outputs": [
    {
     "data": {
      "image/png": "[encoded data removed]",
      "text/plain": [
       "plot without title"
      ]
     },
     "metadata": {
      "image/png": {
       "height": 420,
       "width": 420
      }
     },
     "output_type": "display_data"
    }
   ],
   "source": [
    "library(ggplot2)\n",
    "library(broom)\n",
    "\n",
    "coef_df <- tidy(cox_min, conf.int = TRUE)\n",
    "\n",
    "# Plot\n",
    "ggplot(coef_df, aes(x = term, y = estimate, ymin = conf.low, ymax = conf.high)) +\n",
    "  geom_pointrange() +\n",
    "  geom_hline(yintercept = 0, linetype = \"dashed\") +\n",
    "  coord_flip() +\n",
    "  labs(title = \"Coefficient Estimates with 95% Confidence Intervals\",\n",
    "       x = \"Covariates\", y = \"Log Hazard Ratio (coef)\") +\n",
    "  theme_minimal()"
   ]
  },
  {
   "cell_type": "code",
   "execution_count": 75,
   "metadata": {
    "vscode": {
     "languageId": "r"
    }
   },
   "outputs": [
    {
     "name": "stderr",
     "output_type": "stream",
     "text": [
      "Warning message in agreg.fit(X, Y, istrat, offset, init, control, weights = weights, :\n",
      "“Ran out of iterations and did not converge”\n"
     ]
    }
   ],
   "source": [
    "# Fit initial Cox model (full model with all predictors)\n",
    "# Add the columns 'adjusted_entry_time', 'survival_time', and 'status' to the dataset\n",
    "survival_data_adjusted <- survival_data_adjusted[, c(names(survival_data_adjusted)[grepl(\"^X\", names(survival_data_adjusted))])]\n",
    "\n",
    "# Fit the Cox model\n",
    "cox_full <- coxph(surv_obj ~ ., data = survival_data_adjusted)\n",
    "\n"
   ]
  },
  {
   "cell_type": "code",
   "execution_count": 76,
   "metadata": {
    "vscode": {
     "languageId": "r"
    }
   },
   "outputs": [
    {
     "name": "stdout",
     "output_type": "stream",
     "text": [
      "          chisq df    p\n",
      "X1      0.11727  1 0.73\n",
      "X2      0.00123  1 0.97\n",
      "X3      1.55012  1 0.21\n",
      "X4      0.30430  1 0.58\n",
      "X5      0.03736  1 0.85\n",
      "X6      1.58496  1 0.21\n",
      "X7      0.02997  1 0.86\n",
      "X8      1.72137  1 0.19\n",
      "X9      0.01447  1 0.90\n",
      "X10     0.22788  1 0.63\n",
      "X11     0.03130  1 0.86\n",
      "X14     0.05366  1 0.82\n",
      "X15     0.10251  1 0.75\n",
      "X17     0.09560  1 0.76\n",
      "GLOBAL 16.69201 14 0.27\n"
     ]
    }
   ],
   "source": [
    "ph_test <- cox.zph(cox_full)\n",
    "print(ph_test)\n",
    "# plot(ph_test)\n",
    "\n"
   ]
  },
  {
   "cell_type": "code",
   "execution_count": 77,
   "metadata": {
    "vscode": {
     "languageId": "r"
    }
   },
   "outputs": [
    {
     "name": "stderr",
     "output_type": "stream",
     "text": [
      "Warning message:\n",
      "“\u001b[1m\u001b[22mRemoved 4 rows containing missing values or values outside the scale range\n",
      "(`geom_pointrange()`).”\n"
     ]
    }
   ],
   "source": [
    "library(ggplot2)\n",
    "library(broom)\n",
    "\n",
    "coef_df <- tidy(cox_full, conf.int = TRUE)\n",
    "\n",
    "# Plot\n",
    "g_full = ggplot(coef_df, aes(x = term, y = estimate, ymin = conf.low, ymax = conf.high)) +\n",
    "  geom_pointrange() +\n",
    "  geom_hline(yintercept = 0, linetype = \"dashed\") +\n",
    "  coord_flip() +\n",
    "  labs(title = \"Coefficient Estimates with 95% Confidence Intervals\",\n",
    "       x = \"Covariates\", y = \"Log Hazard Ratio (coef)\") +\n",
    "  theme_minimal()\n",
    "\n",
    "ggsave( \"fig/cox_model_with_all_coefficients.png\", width = 8, height = 6)"
   ]
  },
  {
   "cell_type": "code",
   "execution_count": 78,
   "metadata": {
    "vscode": {
     "languageId": "r"
    }
   },
   "outputs": [
    {
     "name": "stdout",
     "output_type": "stream",
     "text": [
      "Start:  AIC=10038.56\n",
      "surv_obj ~ X1 + X2 + X3 + X4 + X5 + X6 + X7 + X8 + X9 + X10 + \n",
      "    X11 + X12 + X13 + X14 + X15 + X16 + X17 + X18\n",
      "\n"
     ]
    },
    {
     "name": "stderr",
     "output_type": "stream",
     "text": [
      "Warning message in agreg.fit(X, Y, istrat, offset, init, control, weights = weights, :\n",
      "“Ran out of iterations and did not converge”\n",
      "Warning message in agreg.fit(X, Y, istrat, offset, init, control, weights = weights, :\n",
      "“Ran out of iterations and did not converge”\n",
      "Warning message in agreg.fit(X, Y, istrat, offset, init, control, weights = weights, :\n",
      "“Ran out of iterations and did not converge”\n",
      "Warning message in agreg.fit(X, Y, istrat, offset, init, control, weights = weights, :\n",
      "“Ran out of iterations and did not converge”\n",
      "Warning message in agreg.fit(X, Y, istrat, offset, init, control, weights = weights, :\n",
      "“Ran out of iterations and did not converge”\n",
      "Warning message in agreg.fit(X, Y, istrat, offset, init, control, weights = weights, :\n",
      "“Ran out of iterations and did not converge”\n",
      "Warning message in agreg.fit(X, Y, istrat, offset, init, control, weights = weights, :\n",
      "“Ran out of iterations and did not converge”\n",
      "Warning message in agreg.fit(X, Y, istrat, offset, init, control, weights = weights, :\n",
      "“Ran out of iterations and did not converge”\n",
      "Warning message in agreg.fit(X, Y, istrat, offset, init, control, weights = weights, :\n",
      "“Ran out of iterations and did not converge”\n",
      "Warning message in agreg.fit(X, Y, istrat, offset, init, control, weights = weights, :\n",
      "“Ran out of iterations and did not converge”\n",
      "Warning message in agreg.fit(X, Y, istrat, offset, init, control, weights = weights, :\n",
      "“Ran out of iterations and did not converge”\n",
      "Warning message in agreg.fit(X, Y, istrat, offset, init, control, weights = weights, :\n",
      "“Ran out of iterations and did not converge”\n",
      "Warning message in agreg.fit(X, Y, istrat, offset, init, control, weights = weights, :\n",
      "“Ran out of iterations and did not converge”\n",
      "Warning message in agreg.fit(X, Y, istrat, offset, init, control, weights = weights, :\n",
      "“Ran out of iterations and did not converge”\n",
      "Warning message in agreg.fit(X, Y, istrat, offset, init, control, weights = weights, :\n",
      "“Ran out of iterations and did not converge”\n",
      "Warning message in agreg.fit(X, Y, istrat, offset, init, control, weights = weights, :\n",
      "“Ran out of iterations and did not converge”\n",
      "Warning message in agreg.fit(X, Y, istrat, offset, init, control, weights = weights, :\n",
      "“Ran out of iterations and did not converge”\n",
      "Warning message in stepAIC(cox_full, direction = \"both\"):\n",
      "“0 df terms are changing AIC”\n",
      "Warning message in agreg.fit(X, Y, istrat, offset, init, control, weights = weights, :\n",
      "“Ran out of iterations and did not converge”\n"
     ]
    },
    {
     "name": "stdout",
     "output_type": "stream",
     "text": [
      "\n",
      "Step:  AIC=10038.56\n",
      "surv_obj ~ X1 + X2 + X3 + X4 + X5 + X6 + X7 + X8 + X9 + X10 + \n",
      "    X11 + X12 + X13 + X14 + X15 + X16 + X17\n",
      "\n"
     ]
    },
    {
     "name": "stderr",
     "output_type": "stream",
     "text": [
      "Warning message in agreg.fit(X, Y, istrat, offset, init, control, weights = weights, :\n",
      "“Ran out of iterations and did not converge”\n",
      "Warning message in agreg.fit(X, Y, istrat, offset, init, control, weights = weights, :\n",
      "“Ran out of iterations and did not converge”\n",
      "Warning message in agreg.fit(X, Y, istrat, offset, init, control, weights = weights, :\n",
      "“Ran out of iterations and did not converge”\n",
      "Warning message in agreg.fit(X, Y, istrat, offset, init, control, weights = weights, :\n",
      "“Ran out of iterations and did not converge”\n",
      "Warning message in agreg.fit(X, Y, istrat, offset, init, control, weights = weights, :\n",
      "“Ran out of iterations and did not converge”\n",
      "Warning message in agreg.fit(X, Y, istrat, offset, init, control, weights = weights, :\n",
      "“Ran out of iterations and did not converge”\n",
      "Warning message in agreg.fit(X, Y, istrat, offset, init, control, weights = weights, :\n",
      "“Ran out of iterations and did not converge”\n",
      "Warning message in agreg.fit(X, Y, istrat, offset, init, control, weights = weights, :\n",
      "“Ran out of iterations and did not converge”\n",
      "Warning message in agreg.fit(X, Y, istrat, offset, init, control, weights = weights, :\n",
      "“Ran out of iterations and did not converge”\n",
      "Warning message in agreg.fit(X, Y, istrat, offset, init, control, weights = weights, :\n",
      "“Ran out of iterations and did not converge”\n",
      "Warning message in agreg.fit(X, Y, istrat, offset, init, control, weights = weights, :\n",
      "“Ran out of iterations and did not converge”\n",
      "Warning message in agreg.fit(X, Y, istrat, offset, init, control, weights = weights, :\n",
      "“Ran out of iterations and did not converge”\n",
      "Warning message in agreg.fit(X, Y, istrat, offset, init, control, weights = weights, :\n",
      "“Ran out of iterations and did not converge”\n",
      "Warning message in agreg.fit(X, Y, istrat, offset, init, control, weights = weights, :\n",
      "“Ran out of iterations and did not converge”\n",
      "Warning message in stepAIC(cox_full, direction = \"both\"):\n",
      "“0 df terms are changing AIC”\n",
      "Warning message in agreg.fit(X, Y, istrat, offset, init, control, weights = weights, :\n",
      "“Ran out of iterations and did not converge”\n"
     ]
    },
    {
     "name": "stdout",
     "output_type": "stream",
     "text": [
      "\n",
      "Step:  AIC=10038.67\n",
      "surv_obj ~ X1 + X2 + X3 + X4 + X5 + X6 + X7 + X8 + X9 + X10 + \n",
      "    X11 + X12 + X13 + X14 + X15 + X16\n",
      "\n",
      " [1] \"X1\"  \"X2\"  \"X3\"  \"X4\"  \"X5\"  \"X6\"  \"X7\"  \"X8\"  \"X9\"  \"X10\" \"X11\" \"X12\"\n",
      "[13] \"X13\" \"X14\" \"X15\" \"X16\"\n"
     ]
    }
   ],
   "source": [
    "\n",
    "# Perform stepwise feature selection using AIC\n",
    "step_cox <- stepAIC(cox_full, direction = \"both\")\n",
    "\n",
    "# Print selected features\n",
    "selected_features <- names(coef(step_cox))\n",
    "print(selected_features)\n"
   ]
  },
  {
   "cell_type": "code",
   "execution_count": 79,
   "metadata": {
    "vscode": {
     "languageId": "r"
    }
   },
   "outputs": [
    {
     "name": "stdout",
     "output_type": "stream",
     "text": [
      "Start:  AIC=10038.56\n",
      "surv_obj ~ X1 + X2 + X3 + X4 + X5 + X6 + X7 + X8 + X9 + X10 + \n",
      "    X11 + X12 + X13 + X14 + X15 + X16 + X17 + X18\n",
      "\n"
     ]
    },
    {
     "name": "stderr",
     "output_type": "stream",
     "text": [
      "Warning message in agreg.fit(X, Y, istrat, offset, init, control, weights = weights, :\n",
      "“Ran out of iterations and did not converge”\n",
      "Warning message in agreg.fit(X, Y, istrat, offset, init, control, weights = weights, :\n",
      "“Ran out of iterations and did not converge”\n",
      "Warning message in agreg.fit(X, Y, istrat, offset, init, control, weights = weights, :\n",
      "“Ran out of iterations and did not converge”\n",
      "Warning message in agreg.fit(X, Y, istrat, offset, init, control, weights = weights, :\n",
      "“Ran out of iterations and did not converge”\n",
      "Warning message in agreg.fit(X, Y, istrat, offset, init, control, weights = weights, :\n",
      "“Ran out of iterations and did not converge”\n",
      "Warning message in agreg.fit(X, Y, istrat, offset, init, control, weights = weights, :\n",
      "“Ran out of iterations and did not converge”\n",
      "Warning message in agreg.fit(X, Y, istrat, offset, init, control, weights = weights, :\n",
      "“Ran out of iterations and did not converge”\n",
      "Warning message in agreg.fit(X, Y, istrat, offset, init, control, weights = weights, :\n",
      "“Ran out of iterations and did not converge”\n",
      "Warning message in agreg.fit(X, Y, istrat, offset, init, control, weights = weights, :\n",
      "“Ran out of iterations and did not converge”\n",
      "Warning message in agreg.fit(X, Y, istrat, offset, init, control, weights = weights, :\n",
      "“Ran out of iterations and did not converge”\n",
      "Warning message in agreg.fit(X, Y, istrat, offset, init, control, weights = weights, :\n",
      "“Ran out of iterations and did not converge”\n",
      "Warning message in agreg.fit(X, Y, istrat, offset, init, control, weights = weights, :\n",
      "“Ran out of iterations and did not converge”\n",
      "Warning message in agreg.fit(X, Y, istrat, offset, init, control, weights = weights, :\n",
      "“Ran out of iterations and did not converge”\n",
      "Warning message in agreg.fit(X, Y, istrat, offset, init, control, weights = weights, :\n",
      "“Ran out of iterations and did not converge”\n",
      "Warning message in agreg.fit(X, Y, istrat, offset, init, control, weights = weights, :\n",
      "“Ran out of iterations and did not converge”\n",
      "Warning message in agreg.fit(X, Y, istrat, offset, init, control, weights = weights, :\n",
      "“Ran out of iterations and did not converge”\n",
      "Warning message in agreg.fit(X, Y, istrat, offset, init, control, weights = weights, :\n",
      "“Ran out of iterations and did not converge”\n",
      "Warning message in stepAIC(cox_full, direction = \"backward\"):\n",
      "“0 df terms are changing AIC”\n",
      "Warning message in agreg.fit(X, Y, istrat, offset, init, control, weights = weights, :\n",
      "“Ran out of iterations and did not converge”\n"
     ]
    },
    {
     "name": "stdout",
     "output_type": "stream",
     "text": [
      "\n",
      "Step:  AIC=10038.56\n",
      "surv_obj ~ X1 + X2 + X3 + X4 + X5 + X6 + X7 + X8 + X9 + X10 + \n",
      "    X11 + X12 + X13 + X14 + X15 + X16 + X17\n",
      "\n"
     ]
    },
    {
     "name": "stderr",
     "output_type": "stream",
     "text": [
      "Warning message in agreg.fit(X, Y, istrat, offset, init, control, weights = weights, :\n",
      "“Ran out of iterations and did not converge”\n",
      "Warning message in agreg.fit(X, Y, istrat, offset, init, control, weights = weights, :\n",
      "“Ran out of iterations and did not converge”\n",
      "Warning message in agreg.fit(X, Y, istrat, offset, init, control, weights = weights, :\n",
      "“Ran out of iterations and did not converge”\n",
      "Warning message in agreg.fit(X, Y, istrat, offset, init, control, weights = weights, :\n",
      "“Ran out of iterations and did not converge”\n",
      "Warning message in agreg.fit(X, Y, istrat, offset, init, control, weights = weights, :\n",
      "“Ran out of iterations and did not converge”\n",
      "Warning message in agreg.fit(X, Y, istrat, offset, init, control, weights = weights, :\n",
      "“Ran out of iterations and did not converge”\n",
      "Warning message in agreg.fit(X, Y, istrat, offset, init, control, weights = weights, :\n",
      "“Ran out of iterations and did not converge”\n",
      "Warning message in agreg.fit(X, Y, istrat, offset, init, control, weights = weights, :\n",
      "“Ran out of iterations and did not converge”\n",
      "Warning message in agreg.fit(X, Y, istrat, offset, init, control, weights = weights, :\n",
      "“Ran out of iterations and did not converge”\n",
      "Warning message in agreg.fit(X, Y, istrat, offset, init, control, weights = weights, :\n",
      "“Ran out of iterations and did not converge”\n",
      "Warning message in agreg.fit(X, Y, istrat, offset, init, control, weights = weights, :\n",
      "“Ran out of iterations and did not converge”\n",
      "Warning message in agreg.fit(X, Y, istrat, offset, init, control, weights = weights, :\n",
      "“Ran out of iterations and did not converge”\n",
      "Warning message in agreg.fit(X, Y, istrat, offset, init, control, weights = weights, :\n",
      "“Ran out of iterations and did not converge”\n",
      "Warning message in agreg.fit(X, Y, istrat, offset, init, control, weights = weights, :\n",
      "“Ran out of iterations and did not converge”\n",
      "Warning message in stepAIC(cox_full, direction = \"backward\"):\n",
      "“0 df terms are changing AIC”\n",
      "Warning message in agreg.fit(X, Y, istrat, offset, init, control, weights = weights, :\n",
      "“Ran out of iterations and did not converge”\n"
     ]
    },
    {
     "name": "stdout",
     "output_type": "stream",
     "text": [
      "\n",
      "Step:  AIC=10038.67\n",
      "surv_obj ~ X1 + X2 + X3 + X4 + X5 + X6 + X7 + X8 + X9 + X10 + \n",
      "    X11 + X12 + X13 + X14 + X15 + X16\n",
      "\n",
      " [1] \"X1\"  \"X2\"  \"X3\"  \"X4\"  \"X5\"  \"X6\"  \"X7\"  \"X8\"  \"X9\"  \"X10\" \"X11\" \"X12\"\n",
      "[13] \"X13\" \"X14\" \"X15\" \"X16\"\n"
     ]
    }
   ],
   "source": [
    "# Perform stepwise feature selection using AIC\n",
    "step_cox <- stepAIC(cox_full, direction = \"backward\")\n",
    "\n",
    "# Print selected features\n",
    "selected_features <- names(coef(step_cox))\n",
    "print(selected_features)\n"
   ]
  },
  {
   "cell_type": "code",
   "execution_count": null,
   "metadata": {
    "vscode": {
     "languageId": "r"
    }
   },
   "outputs": [],
   "source": []
  },
  {
   "cell_type": "code",
   "execution_count": 80,
   "metadata": {
    "vscode": {
     "languageId": "r"
    }
   },
   "outputs": [
    {
     "name": "stderr",
     "output_type": "stream",
     "text": [
      "Warning message:\n",
      "“\u001b[1m\u001b[22mRemoved 2 rows containing missing values or values outside the scale range\n",
      "(`geom_pointrange()`).”\n"
     ]
    },
    {
     "data": {
      "image/png": "[encoded data removed]",
      "text/plain": [
       "plot without title"
      ]
     },
     "metadata": {
      "image/png": {
       "height": 420,
       "width": 420
      }
     },
     "output_type": "display_data"
    }
   ],
   "source": [
    "library(ggplot2)\n",
    "library(broom)\n",
    "\n",
    "coef_df <- tidy(step_cox, conf.int = TRUE)\n",
    "\n",
    "# Plot\n",
    "ggplot(coef_df, aes(x = term, y = estimate, ymin = conf.low, ymax = conf.high)) +\n",
    "  geom_pointrange() +\n",
    "  geom_hline(yintercept = 0, linetype = \"dashed\") +\n",
    "  coord_flip() +\n",
    "  labs(title = \"Coefficient Estimates with 95% Confidence Intervals\",\n",
    "       x = \"Covariates\", y = \"Log Hazard Ratio (coef)\") +\n",
    "  theme_minimal()"
   ]
  },
  {
   "cell_type": "code",
   "execution_count": 81,
   "metadata": {
    "vscode": {
     "languageId": "r"
    }
   },
   "outputs": [
    {
     "name": "stdout",
     "output_type": "stream",
     "text": [
      "Start:  AIC=10038.56\n",
      "surv_obj ~ X1 + X2 + X3 + X4 + X5 + X6 + X7 + X8 + X9 + X10 + \n",
      "    X11 + X12 + X13 + X14 + X15 + X16 + X17 + X18\n",
      "\n",
      " [1] \"X1\"  \"X2\"  \"X3\"  \"X4\"  \"X5\"  \"X6\"  \"X7\"  \"X8\"  \"X9\"  \"X10\" \"X11\" \"X12\"\n",
      "[13] \"X13\" \"X14\" \"X15\" \"X16\" \"X17\" \"X18\"\n"
     ]
    }
   ],
   "source": [
    "# Perform stepwise feature selection using AIC\n",
    "step_cox <- stepAIC(cox_full, direction = \"forward\")\n",
    "\n",
    "# Print selected features\n",
    "selected_features <- names(coef(step_cox))\n",
    "print(selected_features)\n"
   ]
  },
  {
   "cell_type": "code",
   "execution_count": 82,
   "metadata": {
    "vscode": {
     "languageId": "r"
    }
   },
   "outputs": [
    {
     "data": {
      "text/html": [
       "<style>\n",
       ".list-inline {list-style: none; margin:0; padding: 0}\n",
       ".list-inline>li {display: inline-block}\n",
       ".list-inline>li:not(:last-child)::after {content: \"\\00b7\"; padding: 0 .5ex}\n",
       "</style>\n",
       "<ol class=list-inline><li>'X1'</li><li>'X2'</li><li>'X3'</li><li>'X4'</li><li>'X5'</li><li>'X6'</li><li>'X7'</li><li>'X8'</li><li>'X9'</li><li>'X10'</li><li>'X11'</li><li>'X12'</li><li>'X13'</li><li>'X14'</li><li>'X15'</li><li>'X16'</li><li>'X17'</li><li>'X18'</li></ol>\n"
      ],
      "text/latex": [
       "\\begin{enumerate*}\n",
       "\\item 'X1'\n",
       "\\item 'X2'\n",
       "\\item 'X3'\n",
       "\\item 'X4'\n",
       "\\item 'X5'\n",
       "\\item 'X6'\n",
       "\\item 'X7'\n",
       "\\item 'X8'\n",
       "\\item 'X9'\n",
       "\\item 'X10'\n",
       "\\item 'X11'\n",
       "\\item 'X12'\n",
       "\\item 'X13'\n",
       "\\item 'X14'\n",
       "\\item 'X15'\n",
       "\\item 'X16'\n",
       "\\item 'X17'\n",
       "\\item 'X18'\n",
       "\\end{enumerate*}\n"
      ],
      "text/markdown": [
       "1. 'X1'\n",
       "2. 'X2'\n",
       "3. 'X3'\n",
       "4. 'X4'\n",
       "5. 'X5'\n",
       "6. 'X6'\n",
       "7. 'X7'\n",
       "8. 'X8'\n",
       "9. 'X9'\n",
       "10. 'X10'\n",
       "11. 'X11'\n",
       "12. 'X12'\n",
       "13. 'X13'\n",
       "14. 'X14'\n",
       "15. 'X15'\n",
       "16. 'X16'\n",
       "17. 'X17'\n",
       "18. 'X18'\n",
       "\n",
       "\n"
      ],
      "text/plain": [
       " [1] \"X1\"  \"X2\"  \"X3\"  \"X4\"  \"X5\"  \"X6\"  \"X7\"  \"X8\"  \"X9\"  \"X10\" \"X11\" \"X12\"\n",
       "[13] \"X13\" \"X14\" \"X15\" \"X16\" \"X17\" \"X18\""
      ]
     },
     "metadata": {},
     "output_type": "display_data"
    }
   ],
   "source": [
    "selected_features"
   ]
  },
  {
   "cell_type": "markdown",
   "metadata": {},
   "source": [
    "code to select features exhausively, or randomly is separately running in `search_factors.r` and `exhausive.r`"
   ]
  },
  {
   "cell_type": "code",
   "execution_count": 83,
   "metadata": {
    "vscode": {
     "languageId": "r"
    }
   },
   "outputs": [],
   "source": [
    "# # Load necessary library\n",
    "# library(survival)\n",
    "# library(compiler)\n",
    "# compiler::enableJIT(3)\n",
    "# # Assuming 'survival_data_adjusted' is your dataset and 'surv_obj' is your Surv object\n",
    "# # Extract predictor variable names (e.g., those starting with \"X\")\n",
    "# predictor_names <- grep(\"^X\", names(survival_data_adjusted), value = TRUE)\n",
    "\n",
    "\n",
    "# N <- 2^12\n",
    "\n",
    "# set.seed(123)  # For reproducibility\n",
    "\n",
    "# # Initialize a data frame to store results\n",
    "# results <- data.frame(\n",
    "#   combination = character(N),\n",
    "#   formula = character(N),\n",
    "#   AIC = numeric(N),\n",
    "#   stringsAsFactors = FALSE\n",
    "# )\n",
    "\n",
    "# # Generate and evaluate random combinations\n",
    "# for (i in 1:N) {\n",
    "#   # Generate a random binary vector of length equal to the number of predictors\n",
    "#   binary_vector <- rbinom(length(predictor_names), 1, 0.5)\n",
    "  \n",
    "#   # Identify selected predictors\n",
    "#   selected_vars <- predictor_names[which(binary_vector == 1)]\n",
    "  \n",
    "#   # Skip if no predictors are selected\n",
    "#   if (length(selected_vars) == 0) {\n",
    "#     results$combination[i] <- paste(rep(0, length(predictor_names)), collapse = \"\")\n",
    "#     results$formula[i] <- \"surv_obj ~ 1\"\n",
    "#     results$AIC[i] <- NA\n",
    "#     next\n",
    "#   }\n",
    "  \n",
    "#   # Construct the formula\n",
    "#   formula_str <- paste(\"surv_obj ~\", paste(selected_vars, collapse = \" + \"))\n",
    "#   formula_obj <- as.formula(formula_str)\n",
    "  \n",
    "#   # Fit the Cox model and compute AIC\n",
    "#   model <- tryCatch(\n",
    "#     coxph(formula_obj, data = survival_data_adjusted),\n",
    "#     error = function(e) NULL\n",
    "#   )\n",
    "  \n",
    "#   if (!is.null(model)) {\n",
    "#     aic_value <- extractAIC(model)[2]\n",
    "#   } else {\n",
    "#     aic_value <- NA\n",
    "#   }\n",
    "  \n",
    "#   # Store the results\n",
    "#   results$combination[i] <- paste(binary_vector, collapse = \"\")\n",
    "#   results$formula[i] <- formula_str\n",
    "#   results$AIC[i] <- aic_value\n",
    "# }\n",
    "\n",
    "# # Remove rows with NA AIC values\n",
    "# results_clean <- na.omit(results)\n",
    "\n",
    "# # Sort the results by AIC in ascending order\n",
    "# results_sorted <- results_clean[order(results_clean$AIC), ]\n",
    "\n",
    "# # Display the top 5 combinations\n",
    "# top_5 <- head(results_sorted, 5)\n",
    "# print(top_5)\n"
   ]
  },
  {
   "cell_type": "code",
   "execution_count": null,
   "metadata": {
    "vscode": {
     "languageId": "r"
    }
   },
   "outputs": [
    {
     "data": {
      "text/plain": [
       "$formula1\n",
       "surv_obj ~ X1 + X8 + X11 + X12 + X18\n",
       "\n",
       "$formula2\n",
       "surv_obj ~ X1 + X8 + X9 + X11 + X12\n",
       "\n",
       "$formula3\n",
       "surv_obj ~ X1 + X8 + X9 + X11 + X12 + X16\n",
       "\n",
       "$formula4\n",
       "surv_obj ~ X1 + X8 + X11 + X12 + X16\n",
       "\n",
       "$formula5\n",
       "surv_obj ~ X1 + X2 + X8 + X11 + X12 + X18\n"
      ]
     },
     "metadata": {},
     "output_type": "display_data"
    }
   ],
   "source": [
    "\n",
    "# Load data\n",
    "data <- read.csv(\"top_5_cox_models_with_interactions.csv\", stringsAsFactors = FALSE)\n",
    "\n",
    "# Create an empty list to store formulas\n",
    "formulas <- vector(\"list\", length = nrow(data))\n",
    "\n",
    "# Loop through rows to convert strings into formulas\n",
    "for (i in 1:nrow(data)) {\n",
    "  formulas[[i]] <- as.formula(data$formula[i])\n",
    "}\n",
    "\n",
    "# Optionally, name formulas for convenience\n",
    "names(formulas) <- paste0(\"formula\", 1:nrow(data))\n",
    "\n",
    "# Check your formulas\n",
    "formulas\n",
    "\n",
    "\n"
   ]
  },
  {
   "cell_type": "code",
   "execution_count": 85,
   "metadata": {
    "vscode": {
     "languageId": "r"
    }
   },
   "outputs": [
    {
     "data": {
      "text/plain": [
       "Call:\n",
       "coxph(formula = formulas[[1]], data = survival_data_adjusted)\n",
       "\n",
       "  n= 8971, number of events= 609 \n",
       "\n",
       "          coef  exp(coef)   se(coef)      z Pr(>|z|)    \n",
       "X1  -2.691e-04  9.997e-01  1.060e-04 -2.538 0.011148 *  \n",
       "X8  -3.017e-05  1.000e+00  2.048e-05 -1.473 0.140704    \n",
       "X11  1.700e-04  1.000e+00  4.935e-05  3.444 0.000573 ***\n",
       "X12 -5.744e-04  9.994e-01  1.492e-04 -3.850 0.000118 ***\n",
       "X18  5.200e-05  1.000e+00  1.975e-05  2.633 0.008454 ** \n",
       "---\n",
       "Signif. codes:  0 ‘***’ 0.001 ‘**’ 0.01 ‘*’ 0.05 ‘.’ 0.1 ‘ ’ 1\n",
       "\n",
       "    exp(coef) exp(-coef) lower .95 upper .95\n",
       "X1     0.9997     1.0003    0.9995    0.9999\n",
       "X8     1.0000     1.0000    0.9999    1.0000\n",
       "X11    1.0002     0.9998    1.0001    1.0003\n",
       "X12    0.9994     1.0006    0.9991    0.9997\n",
       "X18    1.0001     0.9999    1.0000    1.0001\n",
       "\n",
       "Concordance= 0.608  (se = 0.011 )\n",
       "Likelihood ratio test= 40.72  on 5 df,   p=1e-07\n",
       "Wald test            = 28.73  on 5 df,   p=3e-05\n",
       "Score (logrank) test = 15.2  on 5 df,   p=0.01\n"
      ]
     },
     "metadata": {},
     "output_type": "display_data"
    },
    {
     "data": {
      "image/png": "[encoded data removed]",
      "text/plain": [
       "plot without title"
      ]
     },
     "metadata": {
      "image/png": {
       "height": 420,
       "width": 420
      }
     },
     "output_type": "display_data"
    }
   ],
   "source": [
    "\n",
    "# Using your previously created formulas list\n",
    "cox_model1 <- coxph(formulas[[1]], data = survival_data_adjusted)\n",
    "\n",
    "# Summarize the model\n",
    "summary(cox_model1)\n",
    "coef_df <- tidy(cox_model1, conf.int = TRUE)\n",
    "\n",
    "# Plot\n",
    "ggplot(coef_df, aes(x = term, y = estimate, ymin = conf.low, ymax = conf.high)) +\n",
    "  geom_pointrange() +\n",
    "  geom_hline(yintercept = 0, linetype = \"dashed\") +\n",
    "  coord_flip() +\n",
    "  labs(title = \"Coefficient Estimates with 95% Confidence Intervals\",\n",
    "       x = \"Covariates\", y = \"Log Hazard Ratio (coef)\") +\n",
    "  theme_minimal()\n",
    "ggsave(\"fig/cox_model_selected_from_exhaustive_AIC_coefficients.png\", width = 8, height = 6)"
   ]
  }
 ],
 "metadata": {
  "kernelspec": {
   "display_name": "R",
   "language": "R",
   "name": "ir"
  },
  "language_info": {
   "codemirror_mode": "r",
   "file_extension": ".r",
   "mimetype": "text/x-r-source",
   "name": "R",
   "pygments_lexer": "r",
   "version": "4.1.2"
  }
 },
 "nbformat": 4,
 "nbformat_minor": 2
}
